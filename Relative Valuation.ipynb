{
 "cells": [
  {
   "cell_type": "code",
   "execution_count": 16,
   "metadata": {},
   "outputs": [],
   "source": [
    "import pandas as pd"
   ]
  },
  {
   "cell_type": "code",
   "execution_count": 17,
   "metadata": {},
   "outputs": [],
   "source": [
    "df = pd.read_csv('Relative Valuation.csv')"
   ]
  },
  {
   "cell_type": "code",
   "execution_count": 18,
   "metadata": {},
   "outputs": [
    {
     "data": {
      "text/html": [
       "<div>\n",
       "<style scoped>\n",
       "    .dataframe tbody tr th:only-of-type {\n",
       "        vertical-align: middle;\n",
       "    }\n",
       "\n",
       "    .dataframe tbody tr th {\n",
       "        vertical-align: top;\n",
       "    }\n",
       "\n",
       "    .dataframe thead th {\n",
       "        text-align: right;\n",
       "    }\n",
       "</style>\n",
       "<table border=\"1\" class=\"dataframe\">\n",
       "  <thead>\n",
       "    <tr style=\"text-align: right;\">\n",
       "      <th></th>\n",
       "      <th>Company</th>\n",
       "      <th>ROA</th>\n",
       "      <th>ROE</th>\n",
       "      <th>ROC</th>\n",
       "      <th>Gross Margin</th>\n",
       "      <th>EBITDA Margin</th>\n",
       "      <th>Net Profit Margin</th>\n",
       "      <th>D/E</th>\n",
       "      <th>D/C</th>\n",
       "      <th>Net Debt/EBITDA</th>\n",
       "      <th>EV/EBITDA</th>\n",
       "      <th>P/FCF</th>\n",
       "      <th>P/E</th>\n",
       "    </tr>\n",
       "  </thead>\n",
       "  <tbody>\n",
       "    <tr>\n",
       "      <th>0</th>\n",
       "      <td>A</td>\n",
       "      <td>0.0230</td>\n",
       "      <td>-</td>\n",
       "      <td>0.0669</td>\n",
       "      <td>0.2130</td>\n",
       "      <td>0.1240</td>\n",
       "      <td>0.0290</td>\n",
       "      <td>-</td>\n",
       "      <td>1.4467</td>\n",
       "      <td>0.0426</td>\n",
       "      <td>34.22</td>\n",
       "      <td>807.12</td>\n",
       "      <td>119.29</td>\n",
       "    </tr>\n",
       "    <tr>\n",
       "      <th>1</th>\n",
       "      <td>B</td>\n",
       "      <td>0.0235</td>\n",
       "      <td>0.2211</td>\n",
       "      <td>0.0493</td>\n",
       "      <td>0.4520</td>\n",
       "      <td>0.2980</td>\n",
       "      <td>0.0840</td>\n",
       "      <td>6.6885</td>\n",
       "      <td>0.8699</td>\n",
       "      <td>0.0683</td>\n",
       "      <td>17.20</td>\n",
       "      <td>23.49</td>\n",
       "      <td>41.45</td>\n",
       "    </tr>\n",
       "    <tr>\n",
       "      <th>2</th>\n",
       "      <td>C</td>\n",
       "      <td>0.0716</td>\n",
       "      <td>0.2157</td>\n",
       "      <td>-</td>\n",
       "      <td>0.3460</td>\n",
       "      <td>0.0950</td>\n",
       "      <td>0.0590</td>\n",
       "      <td>1.5628</td>\n",
       "      <td>0.6098</td>\n",
       "      <td>0.0251</td>\n",
       "      <td>49.83</td>\n",
       "      <td>101.60</td>\n",
       "      <td>114.43</td>\n",
       "    </tr>\n",
       "    <tr>\n",
       "      <th>3</th>\n",
       "      <td>D</td>\n",
       "      <td>0.0723</td>\n",
       "      <td>-</td>\n",
       "      <td>0.1503</td>\n",
       "      <td>0.3000</td>\n",
       "      <td>0.0800</td>\n",
       "      <td>0.0320</td>\n",
       "      <td>-</td>\n",
       "      <td>1.0170</td>\n",
       "      <td>0.0212</td>\n",
       "      <td>22.30</td>\n",
       "      <td>20.40</td>\n",
       "      <td>67.71</td>\n",
       "    </tr>\n",
       "    <tr>\n",
       "      <th>4</th>\n",
       "      <td>E</td>\n",
       "      <td>0.1631</td>\n",
       "      <td>-</td>\n",
       "      <td>0.3954</td>\n",
       "      <td>0.4760</td>\n",
       "      <td>0.3380</td>\n",
       "      <td>0.1600</td>\n",
       "      <td>-</td>\n",
       "      <td>3.1020</td>\n",
       "      <td>0.0662</td>\n",
       "      <td>26.69</td>\n",
       "      <td>31.19</td>\n",
       "      <td>37.95</td>\n",
       "    </tr>\n",
       "    <tr>\n",
       "      <th>5</th>\n",
       "      <td>F</td>\n",
       "      <td>0.0215</td>\n",
       "      <td>0.2087</td>\n",
       "      <td>0.0692</td>\n",
       "      <td>0.5700</td>\n",
       "      <td>0.3580</td>\n",
       "      <td>0.0980</td>\n",
       "      <td>3.7737</td>\n",
       "      <td>0.7905</td>\n",
       "      <td>0.0756</td>\n",
       "      <td>32.78</td>\n",
       "      <td>24.94</td>\n",
       "      <td>37.30</td>\n",
       "    </tr>\n",
       "    <tr>\n",
       "      <th>6</th>\n",
       "      <td>G</td>\n",
       "      <td>0.1234</td>\n",
       "      <td>-</td>\n",
       "      <td>-</td>\n",
       "      <td>0.8047</td>\n",
       "      <td>0.2609</td>\n",
       "      <td>0.0937</td>\n",
       "      <td>-</td>\n",
       "      <td>3.4898</td>\n",
       "      <td>0.0674</td>\n",
       "      <td>69.36</td>\n",
       "      <td>71.24</td>\n",
       "      <td>120.71</td>\n",
       "    </tr>\n",
       "    <tr>\n",
       "      <th>7</th>\n",
       "      <td>H</td>\n",
       "      <td>0.0737</td>\n",
       "      <td>NaN</td>\n",
       "      <td>0.1249</td>\n",
       "      <td>0.7332</td>\n",
       "      <td>0.4132</td>\n",
       "      <td>0.1261</td>\n",
       "      <td>-</td>\n",
       "      <td>1.5151</td>\n",
       "      <td>0.0474</td>\n",
       "      <td>10.84</td>\n",
       "      <td>16.26</td>\n",
       "      <td>21.27</td>\n",
       "    </tr>\n",
       "    <tr>\n",
       "      <th>8</th>\n",
       "      <td>I</td>\n",
       "      <td>0.0945</td>\n",
       "      <td>-</td>\n",
       "      <td>0.1366</td>\n",
       "      <td>0.5080</td>\n",
       "      <td>0.4620</td>\n",
       "      <td>0.2460</td>\n",
       "      <td>-</td>\n",
       "      <td>1.1793</td>\n",
       "      <td>0.0529</td>\n",
       "      <td>21.13</td>\n",
       "      <td>37.88</td>\n",
       "      <td>38.00</td>\n",
       "    </tr>\n",
       "    <tr>\n",
       "      <th>9</th>\n",
       "      <td>Company X</td>\n",
       "      <td>0.3332</td>\n",
       "      <td>-</td>\n",
       "      <td>0.6466</td>\n",
       "      <td>0.2750</td>\n",
       "      <td>0.1860</td>\n",
       "      <td>0.1190</td>\n",
       "      <td>-</td>\n",
       "      <td>4.1236</td>\n",
       "      <td>0.0500</td>\n",
       "      <td>23.47</td>\n",
       "      <td>30.93</td>\n",
       "      <td>31.93</td>\n",
       "    </tr>\n",
       "  </tbody>\n",
       "</table>\n",
       "</div>"
      ],
      "text/plain": [
       "     Company     ROA     ROE     ROC  Gross Margin  EBITDA Margin  \\\n",
       "0          A  0.0230       -  0.0669        0.2130         0.1240   \n",
       "1          B  0.0235  0.2211  0.0493        0.4520         0.2980   \n",
       "2          C  0.0716  0.2157       -        0.3460         0.0950   \n",
       "3          D  0.0723       -  0.1503        0.3000         0.0800   \n",
       "4          E  0.1631       -  0.3954        0.4760         0.3380   \n",
       "5          F  0.0215  0.2087  0.0692        0.5700         0.3580   \n",
       "6          G  0.1234       -       -        0.8047         0.2609   \n",
       "7          H  0.0737     NaN  0.1249        0.7332         0.4132   \n",
       "8          I  0.0945       -  0.1366        0.5080         0.4620   \n",
       "9  Company X  0.3332       -  0.6466        0.2750         0.1860   \n",
       "\n",
       "   Net Profit Margin     D/E     D/C  Net Debt/EBITDA  EV/EBITDA   P/FCF  \\\n",
       "0             0.0290       -  1.4467           0.0426      34.22  807.12   \n",
       "1             0.0840  6.6885  0.8699           0.0683      17.20   23.49   \n",
       "2             0.0590  1.5628  0.6098           0.0251      49.83  101.60   \n",
       "3             0.0320       -  1.0170           0.0212      22.30   20.40   \n",
       "4             0.1600       -  3.1020           0.0662      26.69   31.19   \n",
       "5             0.0980  3.7737  0.7905           0.0756      32.78   24.94   \n",
       "6             0.0937       -  3.4898           0.0674      69.36   71.24   \n",
       "7             0.1261       -  1.5151           0.0474      10.84   16.26   \n",
       "8             0.2460       -  1.1793           0.0529      21.13   37.88   \n",
       "9             0.1190       -  4.1236           0.0500      23.47   30.93   \n",
       "\n",
       "      P/E  \n",
       "0  119.29  \n",
       "1   41.45  \n",
       "2  114.43  \n",
       "3   67.71  \n",
       "4   37.95  \n",
       "5   37.30  \n",
       "6  120.71  \n",
       "7   21.27  \n",
       "8   38.00  \n",
       "9   31.93  "
      ]
     },
     "execution_count": 18,
     "metadata": {},
     "output_type": "execute_result"
    }
   ],
   "source": [
    "df.head(10)\n"
   ]
  },
  {
   "cell_type": "code",
   "execution_count": 19,
   "metadata": {},
   "outputs": [],
   "source": [
    "df_filtered= df[df['Company']!= 'Company X']"
   ]
  },
  {
   "cell_type": "code",
   "execution_count": 20,
   "metadata": {},
   "outputs": [
    {
     "data": {
      "text/plain": [
       "25.69333333333333"
      ]
     },
     "execution_count": 20,
     "metadata": {},
     "output_type": "execute_result"
    }
   ],
   "source": [
    "#Qualitative Assessment. Remove outliers that would overvalue Company X\n",
    "#FCF of A, C, G too high\n",
    "mean_pfcf_adjusted = df_filtered.loc[~df_filtered['Company'].isin(['A', 'C', 'G']), 'P/FCF'].mean()\n",
    "df_filtered.loc[df['Company'].isin(['A', 'C', 'G']), 'P/FCF'] = mean_pfcf_adjusted\n",
    "mean_pfcf_adjusted\n"
   ]
  },
  {
   "cell_type": "code",
   "execution_count": 21,
   "metadata": {},
   "outputs": [
    {
     "data": {
      "text/html": [
       "<div>\n",
       "<style scoped>\n",
       "    .dataframe tbody tr th:only-of-type {\n",
       "        vertical-align: middle;\n",
       "    }\n",
       "\n",
       "    .dataframe tbody tr th {\n",
       "        vertical-align: top;\n",
       "    }\n",
       "\n",
       "    .dataframe thead th {\n",
       "        text-align: right;\n",
       "    }\n",
       "</style>\n",
       "<table border=\"1\" class=\"dataframe\">\n",
       "  <thead>\n",
       "    <tr style=\"text-align: right;\">\n",
       "      <th></th>\n",
       "      <th>ROA</th>\n",
       "      <th>Gross Margin</th>\n",
       "      <th>EBITDA Margin</th>\n",
       "      <th>Net Profit Margin</th>\n",
       "      <th>D/C</th>\n",
       "      <th>Net Debt/EBITDA</th>\n",
       "      <th>EV/EBITDA</th>\n",
       "      <th>P/FCF</th>\n",
       "      <th>P/E</th>\n",
       "    </tr>\n",
       "  </thead>\n",
       "  <tbody>\n",
       "    <tr>\n",
       "      <th>mean</th>\n",
       "      <td>0.074067</td>\n",
       "      <td>0.489211</td>\n",
       "      <td>0.2699</td>\n",
       "      <td>0.103089</td>\n",
       "      <td>1.557789</td>\n",
       "      <td>0.051856</td>\n",
       "      <td>31.594444</td>\n",
       "      <td>25.693333</td>\n",
       "      <td>66.456667</td>\n",
       "    </tr>\n",
       "    <tr>\n",
       "      <th>min</th>\n",
       "      <td>0.021500</td>\n",
       "      <td>0.213000</td>\n",
       "      <td>0.0800</td>\n",
       "      <td>0.029000</td>\n",
       "      <td>0.609800</td>\n",
       "      <td>0.021200</td>\n",
       "      <td>10.840000</td>\n",
       "      <td>16.260000</td>\n",
       "      <td>21.270000</td>\n",
       "    </tr>\n",
       "    <tr>\n",
       "      <th>max</th>\n",
       "      <td>0.163100</td>\n",
       "      <td>0.804700</td>\n",
       "      <td>0.4620</td>\n",
       "      <td>0.246000</td>\n",
       "      <td>3.489800</td>\n",
       "      <td>0.075600</td>\n",
       "      <td>69.360000</td>\n",
       "      <td>37.880000</td>\n",
       "      <td>120.710000</td>\n",
       "    </tr>\n",
       "  </tbody>\n",
       "</table>\n",
       "</div>"
      ],
      "text/plain": [
       "           ROA  Gross Margin  EBITDA Margin  Net Profit Margin       D/C  \\\n",
       "mean  0.074067      0.489211         0.2699           0.103089  1.557789   \n",
       "min   0.021500      0.213000         0.0800           0.029000  0.609800   \n",
       "max   0.163100      0.804700         0.4620           0.246000  3.489800   \n",
       "\n",
       "      Net Debt/EBITDA  EV/EBITDA      P/FCF         P/E  \n",
       "mean         0.051856  31.594444  25.693333   66.456667  \n",
       "min          0.021200  10.840000  16.260000   21.270000  \n",
       "max          0.075600  69.360000  37.880000  120.710000  "
      ]
     },
     "execution_count": 21,
     "metadata": {},
     "output_type": "execute_result"
    }
   ],
   "source": [
    "summary_stats = df_filtered.describe().loc[['mean', 'min', 'max']]\n",
    "summary_stats=pd.DataFrame(summary_stats)\n",
    "summary_stats"
   ]
  },
  {
   "cell_type": "code",
   "execution_count": 22,
   "metadata": {},
   "outputs": [],
   "source": [
    "mean_ev_ebitda= summary_stats.loc['mean', 'EV/EBITDA']"
   ]
  },
  {
   "cell_type": "code",
   "execution_count": 23,
   "metadata": {},
   "outputs": [],
   "source": [
    "#most recent year company X EBITDA and FCF\n",
    "x_ebitda=835.4\n",
    "x_fcf = 504"
   ]
  },
  {
   "cell_type": "code",
   "execution_count": 24,
   "metadata": {},
   "outputs": [
    {
     "data": {
      "text/plain": [
       "26393.99888888889"
      ]
     },
     "execution_count": 24,
     "metadata": {},
     "output_type": "execute_result"
    }
   ],
   "source": [
    "firm_value = x_ebitda*mean_ev_ebitda\n",
    "firm_value"
   ]
  },
  {
   "cell_type": "code",
   "execution_count": 25,
   "metadata": {},
   "outputs": [
    {
     "data": {
      "text/plain": [
       "25.693333333333335"
      ]
     },
     "execution_count": 25,
     "metadata": {},
     "output_type": "execute_result"
    }
   ],
   "source": [
    "mean_p_fcf = summary_stats.loc['mean', 'P/FCF']\n",
    "mean_p_fcf"
   ]
  },
  {
   "cell_type": "code",
   "execution_count": 26,
   "metadata": {},
   "outputs": [
    {
     "data": {
      "text/plain": [
       "12949.44"
      ]
     },
     "execution_count": 26,
     "metadata": {},
     "output_type": "execute_result"
    }
   ],
   "source": [
    "equity_value = x_fcf*mean_p_fcf\n",
    "equity_value"
   ]
  },
  {
   "cell_type": "code",
   "execution_count": 27,
   "metadata": {},
   "outputs": [],
   "source": [
    "#From Balance Sheet\n",
    "shares_outstanding = 38.8684"
   ]
  },
  {
   "cell_type": "code",
   "execution_count": 28,
   "metadata": {},
   "outputs": [
    {
     "data": {
      "text/plain": [
       "679.060596497126"
      ]
     },
     "execution_count": 28,
     "metadata": {},
     "output_type": "execute_result"
    }
   ],
   "source": [
    "firm_value_per_share=firm_value/shares_outstanding\n",
    "firm_value_per_share"
   ]
  },
  {
   "cell_type": "code",
   "execution_count": 29,
   "metadata": {},
   "outputs": [
    {
     "data": {
      "text/plain": [
       "333.16112832017785"
      ]
     },
     "execution_count": 29,
     "metadata": {},
     "output_type": "execute_result"
    }
   ],
   "source": [
    "equity_value_per_share = equity_value/shares_outstanding\n",
    "equity_value_per_share"
   ]
  },
  {
   "cell_type": "code",
   "execution_count": 30,
   "metadata": {},
   "outputs": [
    {
     "data": {
      "text/html": [
       "<div>\n",
       "<style scoped>\n",
       "    .dataframe tbody tr th:only-of-type {\n",
       "        vertical-align: middle;\n",
       "    }\n",
       "\n",
       "    .dataframe tbody tr th {\n",
       "        vertical-align: top;\n",
       "    }\n",
       "\n",
       "    .dataframe thead th {\n",
       "        text-align: right;\n",
       "    }\n",
       "</style>\n",
       "<table border=\"1\" class=\"dataframe\">\n",
       "  <thead>\n",
       "    <tr style=\"text-align: right;\">\n",
       "      <th></th>\n",
       "      <th>0</th>\n",
       "    </tr>\n",
       "  </thead>\n",
       "  <tbody>\n",
       "    <tr>\n",
       "      <th>equity_value</th>\n",
       "      <td>12949.440000</td>\n",
       "    </tr>\n",
       "    <tr>\n",
       "      <th>equity_value_per_share</th>\n",
       "      <td>333.161128</td>\n",
       "    </tr>\n",
       "    <tr>\n",
       "      <th>firm_value</th>\n",
       "      <td>26393.998889</td>\n",
       "    </tr>\n",
       "    <tr>\n",
       "      <th>firm_value_per_share</th>\n",
       "      <td>679.060596</td>\n",
       "    </tr>\n",
       "  </tbody>\n",
       "</table>\n",
       "</div>"
      ],
      "text/plain": [
       "                                   0\n",
       "equity_value            12949.440000\n",
       "equity_value_per_share    333.161128\n",
       "firm_value              26393.998889\n",
       "firm_value_per_share      679.060596"
      ]
     },
     "execution_count": 30,
     "metadata": {},
     "output_type": "execute_result"
    }
   ],
   "source": [
    "valuation_names = ['equity_value', 'equity_value_per_share', 'firm_value', 'firm_value_per_share']\n",
    "valuation = [equity_value, equity_value_per_share, firm_value, firm_value_per_share]\n",
    "valuation = pd.DataFrame(valuation, index=valuation_names)\n",
    "valuation"
   ]
  },
  {
   "cell_type": "code",
   "execution_count": null,
   "metadata": {},
   "outputs": [],
   "source": []
  }
 ],
 "metadata": {
  "kernelspec": {
   "display_name": "Python 3",
   "language": "python",
   "name": "python3"
  },
  "language_info": {
   "codemirror_mode": {
    "name": "ipython",
    "version": 3
   },
   "file_extension": ".py",
   "mimetype": "text/x-python",
   "name": "python",
   "nbconvert_exporter": "python",
   "pygments_lexer": "ipython3",
   "version": "3.10.4"
  },
  "orig_nbformat": 4
 },
 "nbformat": 4,
 "nbformat_minor": 2
}
